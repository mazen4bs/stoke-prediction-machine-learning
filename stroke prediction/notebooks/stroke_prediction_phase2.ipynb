{
 "cells": [
  {
   "cell_type": "code",
   "execution_count": 12,
   "id": "25c0cf39",
   "metadata": {},
   "outputs": [],
   "source": [
    "import pandas as pd\n",
    "from sklearn.model_selection import train_test_split\n",
    "\n",
    "# Load the dfset\n",
    "df = pd.read_csv(\"D:/semster7/ml_project/archive/healthcare-dataset-stroke-data.csv\")\n",
    "\n",
    "\n",
    "\n",
    "# Separate features and target\n",
    "X = df.drop(columns=['stroke'])\n",
    "y = df['stroke']\n",
    "\n",
    "# One-hot encode categorical features\n",
    "X_encoded = pd.get_dummies(X)\n",
    "\n",
    "\n",
    "\n",
    "\n"
   ]
  },
  {
   "cell_type": "markdown",
   "id": "9317bd6e",
   "metadata": {},
   "source": [
    "<h1> before one hot encoding  </h1>"
   ]
  },
  {
   "cell_type": "code",
   "execution_count": 10,
   "id": "437e909b",
   "metadata": {},
   "outputs": [
    {
     "name": "stdout",
     "output_type": "stream",
     "text": [
      "id                              9046\n",
      "gender                          Male\n",
      "age                             67.0\n",
      "hypertension                       0\n",
      "heart_disease                      1\n",
      "ever_married                     Yes\n",
      "work_type                    Private\n",
      "Residence_type                 Urban\n",
      "avg_glucose_level             228.69\n",
      "bmi                             36.6\n",
      "smoking_status       formerly smoked\n",
      "Name: 0, dtype: object\n"
     ]
    }
   ],
   "source": [
    "print(X.iloc[0])"
   ]
  },
  {
   "cell_type": "markdown",
   "id": "47565dda",
   "metadata": {},
   "source": [
    "<h1> After one Hot encoding</h1>"
   ]
  },
  {
   "cell_type": "code",
   "execution_count": 7,
   "id": "6aa44068",
   "metadata": {},
   "outputs": [
    {
     "name": "stdout",
     "output_type": "stream",
     "text": [
      "age                                 67.0\n",
      "hypertension                           0\n",
      "heart_disease                          1\n",
      "avg_glucose_level                 228.69\n",
      "bmi                                 36.6\n",
      "gender_Female                      False\n",
      "gender_Male                         True\n",
      "gender_Other                       False\n",
      "ever_married_No                    False\n",
      "ever_married_Yes                    True\n",
      "work_type_Govt_job                 False\n",
      "work_type_Never_worked             False\n",
      "work_type_Private                   True\n",
      "work_type_Self-employed            False\n",
      "work_type_children                 False\n",
      "Residence_type_Rural               False\n",
      "Residence_type_Urban                True\n",
      "smoking_status_Unknown             False\n",
      "smoking_status_formerly smoked      True\n",
      "smoking_status_never smoked        False\n",
      "smoking_status_smokes              False\n",
      "Name: 0, dtype: object\n",
      "The history saving thread hit an unexpected error (OperationalError('database or disk is full')).History will not be written to the database.\n"
     ]
    }
   ],
   "source": [
    "print(X_encoded.iloc[0])"
   ]
  },
  {
   "cell_type": "markdown",
   "id": "4a2e994d",
   "metadata": {},
   "source": [
    "<h1> Manually splitting the data  </h1>"
   ]
  },
  {
   "cell_type": "code",
   "execution_count": null,
   "id": "e9a0b754",
   "metadata": {},
   "outputs": [
    {
     "name": "stdout",
     "output_type": "stream",
     "text": [
      "Training set: (3066, 22) 60%\n",
      "Validation set: (1022, 22) 20%\n",
      "Testing set: (1022, 22) 20%\n"
     ]
    }
   ],
   "source": [
    "# First split: training+validation and test\n",
    "X_temp, X_test, y_temp, y_test = train_test_split(X_encoded, y, test_size=0.2, random_state=42, stratify=y)\n",
    "\n",
    "# Second split: training and validation (from temp)\n",
    "X_train, X_val, y_train, y_val = train_test_split(X_temp, y_temp, test_size=0.25, random_state=42, stratify=y_temp)\n",
    "\n",
    "\n",
    "# Print sizes to confirm\n",
    "print(\"Training set:\", X_train.shape,\"60%\")\n",
    "print(\"Validation set:\", X_val.shape,\"20%\")\n",
    "print(\"Testing set:\", X_test.shape,\"20%\")\n"
   ]
  },
  {
   "cell_type": "markdown",
   "id": "dd9fa4e7",
   "metadata": {},
   "source": [
    "<h1> ensure the split is done successfully</h1>"
   ]
  },
  {
   "cell_type": "code",
   "execution_count": 39,
   "id": "6e5f5daf",
   "metadata": {},
   "outputs": [
    {
     "name": "stdout",
     "output_type": "stream",
     "text": [
      "splitted successfully with the original data : (5110, 22) splitted data  (5110, 22)\n"
     ]
    }
   ],
   "source": [
    "enc_Shape = X_encoded.shape\n",
    "split_shape = (X_train+X_val+X_test).shape\n",
    "if (enc_Shape == split_shape):\n",
    "    print(\"splitted successfully with the original data :\" , (X_train+X_val+X_test).shape ,\"splitted data \", X_encoded.shape ) \n",
    "else:\n",
    "    print(\"the split is not successfully\")"
   ]
  },
  {
   "cell_type": "code",
   "execution_count": null,
   "id": "4c83d098",
   "metadata": {},
   "outputs": [],
   "source": []
  }
 ],
 "metadata": {
  "kernelspec": {
   "display_name": "cuda_test",
   "language": "python",
   "name": "python3"
  },
  "language_info": {
   "codemirror_mode": {
    "name": "ipython",
    "version": 3
   },
   "file_extension": ".py",
   "mimetype": "text/x-python",
   "name": "python",
   "nbconvert_exporter": "python",
   "pygments_lexer": "ipython3",
   "version": "3.8.20"
  }
 },
 "nbformat": 4,
 "nbformat_minor": 5
}
